{
 "cells": [
  {
   "attachments": {
    "play_ratings_1480163212790.jpg": {
     "image/jpeg": "[encoded data removed]"
    }
   },
   "cell_type": "markdown",
   "id": "0335c95f",
   "metadata": {},
   "source": [
    "![play_ratings_1480163212790.jpg](attachment:play_ratings_1480163212790.jpg)"
   ]
  },
  {
   "cell_type": "markdown",
   "id": "5045bad5",
   "metadata": {},
   "source": [
    "# \n",
    "    <d> In this lesson, we will cover the following concepts with the help of a business use case:\n",
    "\n",
    "    Analysis"
   ]
  },
  {
   "cell_type": "markdown",
   "id": "16c1b4c9",
   "metadata": {},
   "source": [
    "# Problem statement"
   ]
  },
  {
   "cell_type": "markdown",
   "id": "26017414",
   "metadata": {},
   "source": [
    "Google Play Store team is about to launch a new feature wherein, certain apps that are promising are boosted in visibility. The boost will manifest in multiple ways including higher priority in recommendations sections (“Similar apps”, “You might also like”, “New and updated games”). These will also get a boost in search results visibility. This feature will help bring more attention to newer apps that have the potential."
   ]
  },
  {
   "cell_type": "markdown",
   "id": "ad97456e",
   "metadata": {},
   "source": [
    "\n",
    "The problem is to identify the apps that are going to be good for Google to promote. App ratings, which are provided by the customers, are always great indicators of the goodness of the app. The problem reduces to: predict which apps will have high ratings."
   ]
  },
  {
   "cell_type": "markdown",
   "id": "97769cea",
   "metadata": {},
   "source": [
    "# Dataset"
   ]
  },
  {
   "cell_type": "markdown",
   "id": "9e5a3441",
   "metadata": {},
   "source": [
    "    <d>Google Play Store data (googleplaystore.csv)"
   ]
  },
  {
   "cell_type": "markdown",
   "id": "591d017d",
   "metadata": {},
   "source": [
    "Variables     ---     \tDescription\n",
    "\n",
    "App\t          ---      Application name\n",
    "\n",
    "Category\t  ---      Category to which the app belongs\n",
    "\n",
    "Rating\t      ---      Overall user rating of the app\n",
    "\n",
    "Reviews\t     ---       Number of user reviews for the app\n",
    "\n",
    "Size\t     ----       Size of the app\n",
    "\n",
    "Installs     ---      \tNumber of user downloads/installs for the app\n",
    "\n",
    "Type\t     ---       Paid or Free\n",
    "\n",
    "Price\t     ---       Price of the app\n",
    "\n",
    "Content Rating\t---    Age group the app is targeted at - Children / Mature 21+ / Adult\n",
    "\n",
    "Genres\t        ---    An app can belong to multiple genres (apart from its main category)\n",
    "                    For example, a musical family game will belong to Music, Game, Family genres\n",
    "                    \n",
    "Last Updated\t ---   Date when the app was last updated on Play Store\n",
    "\n",
    "Current Ver\t     ---   Current version of the app available on Play Store\n",
    "\n",
    "Android Ver\t     ---   Minimum required Android version"
   ]
  },
  {
   "cell_type": "markdown",
   "id": "9b0b6c75",
   "metadata": {},
   "source": [
    "# importing libraries"
   ]
  },
  {
   "cell_type": "code",
   "execution_count": 1,
   "id": "b00317a3",
   "metadata": {},
   "outputs": [],
   "source": [
    "import pandas as pd\n",
    "import numpy as np\n",
    "import matplotlib.pyplot as plt\n",
    "import seaborn as sns\n",
    "import warnings\n",
    "warnings.filterwarnings('ignore')"
   ]
  },
  {
   "cell_type": "markdown",
   "id": "bd8d57fb",
   "metadata": {},
   "source": [
    "# Load the dataset"
   ]
  },
  {
   "cell_type": "code",
   "execution_count": 2,
   "id": "797ec8a7",
   "metadata": {},
   "outputs": [],
   "source": [
    "df = pd.read_csv('C:\\\\Users\\\\admin\\\\ABC New Environment all in one\\\\SIMPLI LEARN\\\\Regression\\\\googleplaystore.csv')"
   ]
  },
  {
   "cell_type": "code",
   "execution_count": 3,
   "id": "5dc705cc",
   "metadata": {},
   "outputs": [
    {
     "data": {
      "text/html": [
       "<div>\n",
       "<style scoped>\n",
       "    .dataframe tbody tr th:only-of-type {\n",
       "        vertical-align: middle;\n",
       "    }\n",
       "\n",
       "    .dataframe tbody tr th {\n",
       "        vertical-align: top;\n",
       "    }\n",
       "\n",
       "    .dataframe thead th {\n",
       "        text-align: right;\n",
       "    }\n",
       "</style>\n",
       "<table border=\"1\" class=\"dataframe\">\n",
       "  <thead>\n",
       "    <tr style=\"text-align: right;\">\n",
       "      <th></th>\n",
       "      <th>App</th>\n",
       "      <th>Category</th>\n",
       "      <th>Rating</th>\n",
       "      <th>Reviews</th>\n",
       "      <th>Size</th>\n",
       "      <th>Installs</th>\n",
       "      <th>Type</th>\n",
       "      <th>Price</th>\n",
       "      <th>Content_Rating</th>\n",
       "      <th>Genres</th>\n",
       "      <th>Last Updated</th>\n",
       "      <th>Current Ver</th>\n",
       "      <th>Android Ver</th>\n",
       "    </tr>\n",
       "  </thead>\n",
       "  <tbody>\n",
       "    <tr>\n",
       "      <th>0</th>\n",
       "      <td>Photo Editor &amp; Candy Camera &amp; Grid &amp; ScrapBook</td>\n",
       "      <td>ART_AND_DESIGN</td>\n",
       "      <td>4.1</td>\n",
       "      <td>159</td>\n",
       "      <td>19M</td>\n",
       "      <td>10,000+</td>\n",
       "      <td>Free</td>\n",
       "      <td>0</td>\n",
       "      <td>Everyone</td>\n",
       "      <td>Art_&amp;_Design</td>\n",
       "      <td>January 7, 2018</td>\n",
       "      <td>1.0.0</td>\n",
       "      <td>4.0.3 and up</td>\n",
       "    </tr>\n",
       "    <tr>\n",
       "      <th>1</th>\n",
       "      <td>Coloring book moana</td>\n",
       "      <td>ART_AND_DESIGN</td>\n",
       "      <td>3.9</td>\n",
       "      <td>967</td>\n",
       "      <td>14M</td>\n",
       "      <td>500,000+</td>\n",
       "      <td>Free</td>\n",
       "      <td>0</td>\n",
       "      <td>Everyone</td>\n",
       "      <td>Art_&amp;_Design_Pretend_Play</td>\n",
       "      <td>January 15, 2018</td>\n",
       "      <td>2.0.0</td>\n",
       "      <td>4.0.3 and up</td>\n",
       "    </tr>\n",
       "    <tr>\n",
       "      <th>2</th>\n",
       "      <td>U Launcher Lite – FREE Live Cool Themes, Hide ...</td>\n",
       "      <td>ART_AND_DESIGN</td>\n",
       "      <td>4.7</td>\n",
       "      <td>87510</td>\n",
       "      <td>8.7M</td>\n",
       "      <td>5,000,000+</td>\n",
       "      <td>Free</td>\n",
       "      <td>0</td>\n",
       "      <td>Everyone</td>\n",
       "      <td>Art_&amp;_Design</td>\n",
       "      <td>August 1, 2018</td>\n",
       "      <td>1.2.4</td>\n",
       "      <td>4.0.3 and up</td>\n",
       "    </tr>\n",
       "    <tr>\n",
       "      <th>3</th>\n",
       "      <td>Sketch - Draw &amp; Paint</td>\n",
       "      <td>ART_AND_DESIGN</td>\n",
       "      <td>4.5</td>\n",
       "      <td>215644</td>\n",
       "      <td>25M</td>\n",
       "      <td>50,000,000+</td>\n",
       "      <td>Free</td>\n",
       "      <td>0</td>\n",
       "      <td>Teen</td>\n",
       "      <td>Art_&amp;_Design</td>\n",
       "      <td>June 8, 2018</td>\n",
       "      <td>Varies with device</td>\n",
       "      <td>4.2 and up</td>\n",
       "    </tr>\n",
       "    <tr>\n",
       "      <th>4</th>\n",
       "      <td>Pixel Draw - Number Art Coloring Book</td>\n",
       "      <td>ART_AND_DESIGN</td>\n",
       "      <td>4.3</td>\n",
       "      <td>967</td>\n",
       "      <td>2.8M</td>\n",
       "      <td>100,000+</td>\n",
       "      <td>Free</td>\n",
       "      <td>0</td>\n",
       "      <td>Everyone</td>\n",
       "      <td>Art_&amp;_Design_Creativity</td>\n",
       "      <td>June 20, 2018</td>\n",
       "      <td>1.1</td>\n",
       "      <td>4.4 and up</td>\n",
       "    </tr>\n",
       "  </tbody>\n",
       "</table>\n",
       "</div>"
      ],
      "text/plain": [
       "                                                 App        Category  Rating  \\\n",
       "0     Photo Editor & Candy Camera & Grid & ScrapBook  ART_AND_DESIGN     4.1   \n",
       "1                                Coloring book moana  ART_AND_DESIGN     3.9   \n",
       "2  U Launcher Lite – FREE Live Cool Themes, Hide ...  ART_AND_DESIGN     4.7   \n",
       "3                              Sketch - Draw & Paint  ART_AND_DESIGN     4.5   \n",
       "4              Pixel Draw - Number Art Coloring Book  ART_AND_DESIGN     4.3   \n",
       "\n",
       "  Reviews  Size     Installs  Type Price Content_Rating  \\\n",
       "0     159   19M      10,000+  Free     0       Everyone   \n",
       "1     967   14M     500,000+  Free     0       Everyone   \n",
       "2   87510  8.7M   5,000,000+  Free     0       Everyone   \n",
       "3  215644   25M  50,000,000+  Free     0           Teen   \n",
       "4     967  2.8M     100,000+  Free     0       Everyone   \n",
       "\n",
       "                      Genres      Last Updated         Current Ver  \\\n",
       "0               Art_&_Design   January 7, 2018               1.0.0   \n",
       "1  Art_&_Design_Pretend_Play  January 15, 2018               2.0.0   \n",
       "2               Art_&_Design    August 1, 2018               1.2.4   \n",
       "3               Art_&_Design      June 8, 2018  Varies with device   \n",
       "4    Art_&_Design_Creativity     June 20, 2018                 1.1   \n",
       "\n",
       "    Android Ver  \n",
       "0  4.0.3 and up  \n",
       "1  4.0.3 and up  \n",
       "2  4.0.3 and up  \n",
       "3    4.2 and up  \n",
       "4    4.4 and up  "
      ]
     },
     "execution_count": 3,
     "metadata": {},
     "output_type": "execute_result"
    }
   ],
   "source": [
    "# checking first give rows\n",
    "df.head()"
   ]
  },
  {
   "cell_type": "code",
   "execution_count": 4,
   "id": "dd93735e",
   "metadata": {
    "scrolled": true
   },
   "outputs": [
    {
     "data": {
      "text/html": [
       "<div>\n",
       "<style scoped>\n",
       "    .dataframe tbody tr th:only-of-type {\n",
       "        vertical-align: middle;\n",
       "    }\n",
       "\n",
       "    .dataframe tbody tr th {\n",
       "        vertical-align: top;\n",
       "    }\n",
       "\n",
       "    .dataframe thead th {\n",
       "        text-align: right;\n",
       "    }\n",
       "</style>\n",
       "<table border=\"1\" class=\"dataframe\">\n",
       "  <thead>\n",
       "    <tr style=\"text-align: right;\">\n",
       "      <th></th>\n",
       "      <th>App</th>\n",
       "      <th>Category</th>\n",
       "      <th>Rating</th>\n",
       "      <th>Reviews</th>\n",
       "      <th>Size</th>\n",
       "      <th>Installs</th>\n",
       "      <th>Type</th>\n",
       "      <th>Price</th>\n",
       "      <th>Content_Rating</th>\n",
       "      <th>Genres</th>\n",
       "      <th>Last Updated</th>\n",
       "      <th>Current Ver</th>\n",
       "      <th>Android Ver</th>\n",
       "    </tr>\n",
       "  </thead>\n",
       "  <tbody>\n",
       "    <tr>\n",
       "      <th>10836</th>\n",
       "      <td>Sya9a Maroc - FR</td>\n",
       "      <td>FAMILY</td>\n",
       "      <td>4.5</td>\n",
       "      <td>38</td>\n",
       "      <td>53M</td>\n",
       "      <td>5,000+</td>\n",
       "      <td>Free</td>\n",
       "      <td>0</td>\n",
       "      <td>Everyone</td>\n",
       "      <td>Education</td>\n",
       "      <td>July 25, 2017</td>\n",
       "      <td>1.48</td>\n",
       "      <td>4.1 and up</td>\n",
       "    </tr>\n",
       "    <tr>\n",
       "      <th>10837</th>\n",
       "      <td>Fr. Mike Schmitz Audio Teachings</td>\n",
       "      <td>FAMILY</td>\n",
       "      <td>5.0</td>\n",
       "      <td>4</td>\n",
       "      <td>3.6M</td>\n",
       "      <td>100+</td>\n",
       "      <td>Free</td>\n",
       "      <td>0</td>\n",
       "      <td>Everyone</td>\n",
       "      <td>Education</td>\n",
       "      <td>July 6, 2018</td>\n",
       "      <td>1</td>\n",
       "      <td>4.1 and up</td>\n",
       "    </tr>\n",
       "    <tr>\n",
       "      <th>10838</th>\n",
       "      <td>Parkinson Exercices FR</td>\n",
       "      <td>MEDICAL</td>\n",
       "      <td>NaN</td>\n",
       "      <td>3</td>\n",
       "      <td>9.5M</td>\n",
       "      <td>1,000+</td>\n",
       "      <td>Free</td>\n",
       "      <td>0</td>\n",
       "      <td>Everyone</td>\n",
       "      <td>Medical</td>\n",
       "      <td>January 20, 2017</td>\n",
       "      <td>1</td>\n",
       "      <td>2.2 and up</td>\n",
       "    </tr>\n",
       "    <tr>\n",
       "      <th>10839</th>\n",
       "      <td>The SCP Foundation DB fr nn5n</td>\n",
       "      <td>BOOKS_AND_REFERENCE</td>\n",
       "      <td>4.5</td>\n",
       "      <td>114</td>\n",
       "      <td>Varies with device</td>\n",
       "      <td>1,000+</td>\n",
       "      <td>Free</td>\n",
       "      <td>0</td>\n",
       "      <td>Mature_17+</td>\n",
       "      <td>Books_&amp;_Reference</td>\n",
       "      <td>January 19, 2015</td>\n",
       "      <td>Varies with device</td>\n",
       "      <td>Varies with device</td>\n",
       "    </tr>\n",
       "    <tr>\n",
       "      <th>10840</th>\n",
       "      <td>iHoroscope - 2018 Daily Horoscope &amp; Astrology</td>\n",
       "      <td>LIFESTYLE</td>\n",
       "      <td>4.5</td>\n",
       "      <td>398307</td>\n",
       "      <td>19M</td>\n",
       "      <td>10,000,000+</td>\n",
       "      <td>Free</td>\n",
       "      <td>0</td>\n",
       "      <td>Everyone</td>\n",
       "      <td>Lifestyle</td>\n",
       "      <td>July 25, 2018</td>\n",
       "      <td>Varies with device</td>\n",
       "      <td>Varies with device</td>\n",
       "    </tr>\n",
       "  </tbody>\n",
       "</table>\n",
       "</div>"
      ],
      "text/plain": [
       "                                                 App             Category  \\\n",
       "10836                               Sya9a Maroc - FR               FAMILY   \n",
       "10837               Fr. Mike Schmitz Audio Teachings               FAMILY   \n",
       "10838                         Parkinson Exercices FR              MEDICAL   \n",
       "10839                  The SCP Foundation DB fr nn5n  BOOKS_AND_REFERENCE   \n",
       "10840  iHoroscope - 2018 Daily Horoscope & Astrology            LIFESTYLE   \n",
       "\n",
       "       Rating Reviews                Size     Installs  Type Price  \\\n",
       "10836     4.5      38                 53M       5,000+  Free     0   \n",
       "10837     5.0       4                3.6M         100+  Free     0   \n",
       "10838     NaN       3                9.5M       1,000+  Free     0   \n",
       "10839     4.5     114  Varies with device       1,000+  Free     0   \n",
       "10840     4.5  398307                 19M  10,000,000+  Free     0   \n",
       "\n",
       "      Content_Rating             Genres      Last Updated         Current Ver  \\\n",
       "10836       Everyone          Education     July 25, 2017                1.48   \n",
       "10837       Everyone          Education      July 6, 2018                   1   \n",
       "10838       Everyone            Medical  January 20, 2017                   1   \n",
       "10839     Mature_17+  Books_&_Reference  January 19, 2015  Varies with device   \n",
       "10840       Everyone          Lifestyle     July 25, 2018  Varies with device   \n",
       "\n",
       "              Android Ver  \n",
       "10836          4.1 and up  \n",
       "10837          4.1 and up  \n",
       "10838          2.2 and up  \n",
       "10839  Varies with device  \n",
       "10840  Varies with device  "
      ]
     },
     "execution_count": 4,
     "metadata": {},
     "output_type": "execute_result"
    }
   ],
   "source": [
    "# checking last five rows\n",
    "df.tail()"
   ]
  },
  {
   "cell_type": "markdown",
   "id": "94534c64",
   "metadata": {},
   "source": [
    "# EDA"
   ]
  },
  {
   "cell_type": "code",
   "execution_count": 5,
   "id": "4177ea2b",
   "metadata": {},
   "outputs": [
    {
     "data": {
      "text/plain": [
       "(10841, 13)"
      ]
     },
     "execution_count": 5,
     "metadata": {},
     "output_type": "execute_result"
    }
   ],
   "source": [
    "# checking number of columns and rows\n",
    "df.shape"
   ]
  },
  {
   "cell_type": "code",
   "execution_count": 6,
   "id": "6385fb57",
   "metadata": {},
   "outputs": [
    {
     "name": "stdout",
     "output_type": "stream",
     "text": [
      "<class 'pandas.core.frame.DataFrame'>\n",
      "RangeIndex: 10841 entries, 0 to 10840\n",
      "Data columns (total 13 columns):\n",
      " #   Column          Non-Null Count  Dtype  \n",
      "---  ------          --------------  -----  \n",
      " 0   App             10841 non-null  object \n",
      " 1   Category        10841 non-null  object \n",
      " 2   Rating          9367 non-null   float64\n",
      " 3   Reviews         10841 non-null  object \n",
      " 4   Size            10841 non-null  object \n",
      " 5   Installs        10841 non-null  object \n",
      " 6   Type            10840 non-null  object \n",
      " 7   Price           10841 non-null  object \n",
      " 8   Content_Rating  10840 non-null  object \n",
      " 9   Genres          10841 non-null  object \n",
      " 10  Last Updated    10841 non-null  object \n",
      " 11  Current Ver     10833 non-null  object \n",
      " 12  Android Ver     10838 non-null  object \n",
      "dtypes: float64(1), object(12)\n",
      "memory usage: 1.1+ MB\n"
     ]
    }
   ],
   "source": [
    "# checking data type\n",
    "df.info()"
   ]
  },
  {
   "cell_type": "code",
   "execution_count": 7,
   "id": "b735657c",
   "metadata": {},
   "outputs": [
    {
     "data": {
      "text/plain": [
       "App                  0\n",
       "Category             0\n",
       "Rating            1474\n",
       "Reviews              0\n",
       "Size                 0\n",
       "Installs             0\n",
       "Type                 1\n",
       "Price                0\n",
       "Content_Rating       1\n",
       "Genres               0\n",
       "Last Updated         0\n",
       "Current Ver          8\n",
       "Android Ver          3\n",
       "dtype: int64"
      ]
     },
     "execution_count": 7,
     "metadata": {},
     "output_type": "execute_result"
    }
   ],
   "source": [
    "# checking missing values\n",
    "df.isnull().sum()"
   ]
  },
  {
   "cell_type": "markdown",
   "id": "87d345e2",
   "metadata": {},
   "source": [
    "    <b>Dropping the record with null values\n",
    "    <b>This is done because rating is our target valriable and if is null we cannot use that observation for training"
   ]
  },
  {
   "cell_type": "code",
   "execution_count": 8,
   "id": "fed6f2b1",
   "metadata": {},
   "outputs": [],
   "source": [
    "df.dropna(inplace=True)"
   ]
  },
  {
   "cell_type": "code",
   "execution_count": 9,
   "id": "35b2cbcd",
   "metadata": {},
   "outputs": [
    {
     "name": "stdout",
     "output_type": "stream",
     "text": [
      "App               0\n",
      "Category          0\n",
      "Rating            0\n",
      "Reviews           0\n",
      "Size              0\n",
      "Installs          0\n",
      "Type              0\n",
      "Price             0\n",
      "Content_Rating    0\n",
      "Genres            0\n",
      "Last Updated      0\n",
      "Current Ver       0\n",
      "Android Ver       0\n",
      "dtype: int64\n",
      "(9360, 13)\n"
     ]
    }
   ],
   "source": [
    "# The null values has got deleted.\n",
    "print(df.isnull().sum())\n",
    "print(df.shape)"
   ]
  },
  {
   "cell_type": "markdown",
   "id": "78f26c84",
   "metadata": {},
   "source": [
    "### Feature wise Cleanup, Preprocessing and Transformation"
   ]
  },
  {
   "cell_type": "markdown",
   "id": "f97fc9e5",
   "metadata": {},
   "source": [
    "##### Price"
   ]
  },
  {
   "cell_type": "code",
   "execution_count": 10,
   "id": "4f6b6a26",
   "metadata": {},
   "outputs": [
    {
     "data": {
      "text/plain": [
       "0          8715\n",
       "$2.99       114\n",
       "$0.99       106\n",
       "$4.99        70\n",
       "$1.99        59\n",
       "           ... \n",
       "$1.29         1\n",
       "$299.99       1\n",
       "$379.99       1\n",
       "$37.99        1\n",
       "$1.20         1\n",
       "Name: Price, Length: 73, dtype: int64"
      ]
     },
     "execution_count": 10,
     "metadata": {},
     "output_type": "execute_result"
    }
   ],
   "source": [
    "# cleaning the Price column\n",
    "df['Price'].value_counts()"
   ]
  },
  {
   "cell_type": "markdown",
   "id": "976c4fb7",
   "metadata": {},
   "source": [
    "Observations\n",
    "\n",
    "some has $ and some has 0\n",
    "\n",
    "* we need to conditionaly handle this\n",
    "* First, Lets modify the column to take 0 if value is 0, else take the first letter onwords"
   ]
  },
  {
   "cell_type": "code",
   "execution_count": 11,
   "id": "5e868d4b",
   "metadata": {},
   "outputs": [],
   "source": [
    "# Modify the column by removing $ sign and convert into float"
   ]
  },
  {
   "cell_type": "code",
   "execution_count": 12,
   "id": "181b63d6",
   "metadata": {},
   "outputs": [],
   "source": [
    "df[\"Price\"] = df[\"Price\"].apply(lambda x: str(x).replace('$', '') if x in str(x) else str(x))"
   ]
  },
  {
   "cell_type": "code",
   "execution_count": 13,
   "id": "a3e0d9e6",
   "metadata": {},
   "outputs": [],
   "source": [
    "df[\"Price\"] = pd.to_numeric(df[\"Price\"], errors='coerce')"
   ]
  },
  {
   "cell_type": "code",
   "execution_count": 14,
   "id": "488fbc2a",
   "metadata": {},
   "outputs": [
    {
     "data": {
      "text/plain": [
       "count    9360.00\n",
       "mean        0.96\n",
       "std        15.82\n",
       "min         0.00\n",
       "25%         0.00\n",
       "50%         0.00\n",
       "75%         0.00\n",
       "max       400.00\n",
       "Name: Price, dtype: float64"
      ]
     },
     "execution_count": 14,
     "metadata": {},
     "output_type": "execute_result"
    }
   ],
   "source": [
    "# df[\"Price\"].describe()\n",
    "df[\"Price\"].describe().round(2)"
   ]
  },
  {
   "cell_type": "markdown",
   "id": "18b8ef1f",
   "metadata": {},
   "source": [
    "<!--  **The other columns with numeric are<b>**\n",
    "    1. review\n",
    "    2. install\n",
    "    3. size\n",
    "    \n",
    "The values in this features have some alphanumeric characters due to which these features have been loaded as object data type\n",
    " -->"
   ]
  },
  {
   "cell_type": "markdown",
   "id": "c93f9b93",
   "metadata": {},
   "source": [
    "**The other columns with numeric data are:<br>**\n",
    "1. Reviews\n",
    "2. Installs\n",
    "3. Size\n",
    "\n",
    "However the format of the values in these features have some alphanumeric characters due to which these features have been loaded as object data type."
   ]
  },
  {
   "cell_type": "markdown",
   "id": "cf3bfd06",
   "metadata": {},
   "source": [
    "### Reviews"
   ]
  },
  {
   "cell_type": "code",
   "execution_count": 15,
   "id": "5c695966",
   "metadata": {},
   "outputs": [],
   "source": [
    "pd.options.display.max_rows = 20000"
   ]
  },
  {
   "cell_type": "code",
   "execution_count": 61,
   "id": "f7f90ab0",
   "metadata": {},
   "outputs": [
    {
     "data": {
      "text/plain": [
       "2    81\n",
       "3    78\n",
       "5    74\n",
       "4    73\n",
       "1    67\n",
       "Name: Reviews, dtype: int64"
      ]
     },
     "execution_count": 61,
     "metadata": {},
     "output_type": "execute_result"
    }
   ],
   "source": [
    "Rw_count = df[\"Reviews\"].value_counts()\n",
    "Rw_count.head()"
   ]
  },
  {
   "cell_type": "code",
   "execution_count": 17,
   "id": "902048ea",
   "metadata": {},
   "outputs": [],
   "source": [
    "# converting Reviews to numeric\n",
    "df[\"Reviews\"] = df[\"Reviews\"].astype(\"int32\")   #to_numeric"
   ]
  },
  {
   "cell_type": "code",
   "execution_count": 59,
   "id": "66a4bdac",
   "metadata": {},
   "outputs": [
    {
     "data": {
      "text/plain": [
       "0       159\n",
       "1       967\n",
       "2     87510\n",
       "3    215644\n",
       "4       967\n",
       "Name: Reviews, dtype: int32"
      ]
     },
     "execution_count": 59,
     "metadata": {},
     "output_type": "execute_result"
    }
   ],
   "source": [
    "Rw = df[\"Reviews\"]\n",
    "Rw.head()"
   ]
  },
  {
   "cell_type": "code",
   "execution_count": 19,
   "id": "51a238e5",
   "metadata": {},
   "outputs": [
    {
     "data": {
      "text/plain": [
       "count        9360.0\n",
       "mean       514377.0\n",
       "std       3145023.0\n",
       "min             1.0\n",
       "25%           187.0\n",
       "50%          5955.0\n",
       "75%         81628.0\n",
       "max      78158306.0\n",
       "Name: Reviews, dtype: float64"
      ]
     },
     "execution_count": 19,
     "metadata": {},
     "output_type": "execute_result"
    }
   ],
   "source": [
    "df[\"Reviews\"].describe().round(0)"
   ]
  },
  {
   "cell_type": "markdown",
   "id": "d9d87e03",
   "metadata": {},
   "source": [
    "# Install"
   ]
  },
  {
   "cell_type": "code",
   "execution_count": 20,
   "id": "7e9648e7",
   "metadata": {},
   "outputs": [
    {
     "data": {
      "text/plain": [
       "1,000,000+        1576\n",
       "10,000,000+       1252\n",
       "100,000+          1150\n",
       "10,000+           1009\n",
       "5,000,000+         752\n",
       "1,000+             712\n",
       "500,000+           537\n",
       "50,000+            466\n",
       "5,000+             431\n",
       "100,000,000+       409\n",
       "100+               309\n",
       "50,000,000+        289\n",
       "500+               201\n",
       "500,000,000+        72\n",
       "10+                 69\n",
       "1,000,000,000+      58\n",
       "50+                 56\n",
       "5+                   9\n",
       "1+                   3\n",
       "Name: Installs, dtype: int64"
      ]
     },
     "execution_count": 20,
     "metadata": {},
     "output_type": "execute_result"
    }
   ],
   "source": [
    "# handling the installed columns\n",
    "df[\"Installs\"].value_counts()"
   ]
  },
  {
   "cell_type": "markdown",
   "id": "851a28a5",
   "metadata": {},
   "source": [
    "we need to remove sign like , and + and convert it into numerics. We will define a user define function for the same"
   ]
  },
  {
   "cell_type": "code",
   "execution_count": 21,
   "id": "0de1ada4",
   "metadata": {},
   "outputs": [],
   "source": [
    "df['Installs'] = df['Installs'].apply(lambda x: str(x).replace(',', '') if ',' in str(x) else str(x))\n",
    "df['Installs'] = df['Installs'].apply(lambda x: str(x).replace('+', '') if '+' in str(x) else str(x))\n",
    "df['Installs'] = pd.to_numeric(df[\"Installs\"], errors='coerce')"
   ]
  },
  {
   "cell_type": "code",
   "execution_count": 22,
   "id": "d9532bc4",
   "metadata": {},
   "outputs": [
    {
     "data": {
      "text/plain": [
       "1000000       1576\n",
       "10000000      1252\n",
       "100000        1150\n",
       "10000         1009\n",
       "5000000        752\n",
       "1000           712\n",
       "500000         537\n",
       "50000          466\n",
       "5000           431\n",
       "100000000      409\n",
       "100            309\n",
       "50000000       289\n",
       "500            201\n",
       "500000000       72\n",
       "10              69\n",
       "1000000000      58\n",
       "50              56\n",
       "5                9\n",
       "1                3\n",
       "Name: Installs, dtype: int64"
      ]
     },
     "execution_count": 22,
     "metadata": {},
     "output_type": "execute_result"
    }
   ],
   "source": [
    "df['Installs'].value_counts()"
   ]
  },
  {
   "cell_type": "markdown",
   "id": "0f128de3",
   "metadata": {},
   "source": [
    "To prevent display scientific  notaion eg 2.36e-3 etc"
   ]
  },
  {
   "cell_type": "code",
   "execution_count": 23,
   "id": "4e50f8b0",
   "metadata": {},
   "outputs": [],
   "source": [
    "pd.options.display.float_format = '{:.2f}'.format\n",
    "pd.options.display.max_rows = 10000"
   ]
  },
  {
   "cell_type": "code",
   "execution_count": 57,
   "id": "5b5a6d77",
   "metadata": {},
   "outputs": [
    {
     "data": {
      "text/plain": [
       "22970.46    1636\n",
       "14000.00     165\n",
       "12000.00     161\n",
       "11000.00     159\n",
       "15000.00     159\n",
       "Name: Size, dtype: int64"
      ]
     },
     "execution_count": 57,
     "metadata": {},
     "output_type": "execute_result"
    }
   ],
   "source": [
    "size_count = df['Size'].value_counts()\n",
    "size_count.head()"
   ]
  },
  {
   "cell_type": "code",
   "execution_count": 25,
   "id": "1d6f8bf4",
   "metadata": {},
   "outputs": [],
   "source": [
    "# handling the  app size field to convert  values into  KB  by  checking for M or K"
   ]
  },
  {
   "cell_type": "code",
   "execution_count": 26,
   "id": "1096d170",
   "metadata": {},
   "outputs": [],
   "source": [
    "def change_size(size):\n",
    "    if \"M\" in size:\n",
    "        x = size[ :-1]\n",
    "        x = float(x)*1000\n",
    "        return (x)\n",
    "    \n",
    "    elif 'k' == size[-1: ]:\n",
    "        x = size[ :-1]\n",
    "        x = float(x)\n",
    "        return (x)\n",
    "    \n",
    "    else:\n",
    "        return None"
   ]
  },
  {
   "cell_type": "code",
   "execution_count": 27,
   "id": "76a3823c",
   "metadata": {},
   "outputs": [],
   "source": [
    "df[\"Size\"] = df[\"Size\"].map(change_size)"
   ]
  },
  {
   "cell_type": "code",
   "execution_count": 28,
   "id": "54e984bf",
   "metadata": {},
   "outputs": [
    {
     "data": {
      "text/plain": [
       "count     7723.00\n",
       "mean     22970.00\n",
       "std      23450.00\n",
       "min          8.00\n",
       "25%       5300.00\n",
       "50%      14000.00\n",
       "75%      33000.00\n",
       "max     100000.00\n",
       "Name: Size, dtype: float64"
      ]
     },
     "execution_count": 28,
     "metadata": {},
     "output_type": "execute_result"
    }
   ],
   "source": [
    "df[\"Size\"].describe().round(0)"
   ]
  },
  {
   "cell_type": "code",
   "execution_count": 29,
   "id": "373a7129",
   "metadata": {},
   "outputs": [
    {
     "data": {
      "image/png": "[encoded data removed]",
      "text/plain": [
       "<Figure size 640x480 with 1 Axes>"
      ]
     },
     "metadata": {},
     "output_type": "display_data"
    }
   ],
   "source": [
    "sns.boxplot (data=df, x='Size');"
   ]
  },
  {
   "cell_type": "code",
   "execution_count": 30,
   "id": "c86d87f7",
   "metadata": {},
   "outputs": [
    {
     "data": {
      "text/plain": [
       "App                  0\n",
       "Category             0\n",
       "Rating               0\n",
       "Reviews              0\n",
       "Size              1637\n",
       "Installs             0\n",
       "Type                 0\n",
       "Price                0\n",
       "Content_Rating       0\n",
       "Genres               0\n",
       "Last Updated         0\n",
       "Current Ver          0\n",
       "Android Ver          0\n",
       "dtype: int64"
      ]
     },
     "execution_count": 30,
     "metadata": {},
     "output_type": "execute_result"
    }
   ],
   "source": [
    "df.isnull().sum()"
   ]
  },
  {
   "cell_type": "markdown",
   "id": "6890b646",
   "metadata": {},
   "source": [
    "**Filling Size null values by mean**"
   ]
  },
  {
   "cell_type": "code",
   "execution_count": 31,
   "id": "808238ce",
   "metadata": {},
   "outputs": [],
   "source": [
    "df['Size'].fillna(df['Size'].mean(), inplace=True)"
   ]
  },
  {
   "cell_type": "code",
   "execution_count": 32,
   "id": "6ed914f7",
   "metadata": {},
   "outputs": [
    {
     "data": {
      "text/plain": [
       "App                object\n",
       "Category           object\n",
       "Rating            float64\n",
       "Reviews             int32\n",
       "Size              float64\n",
       "Installs            int64\n",
       "Type               object\n",
       "Price             float64\n",
       "Content_Rating     object\n",
       "Genres             object\n",
       "Last Updated       object\n",
       "Current Ver        object\n",
       "Android Ver        object\n",
       "dtype: object"
      ]
     },
     "execution_count": 32,
     "metadata": {},
     "output_type": "execute_result"
    }
   ],
   "source": [
    "df.dtypes"
   ]
  },
  {
   "cell_type": "code",
   "execution_count": 33,
   "id": "369685fd",
   "metadata": {},
   "outputs": [
    {
     "data": {
      "text/plain": [
       "App               0\n",
       "Category          0\n",
       "Rating            0\n",
       "Reviews           0\n",
       "Size              0\n",
       "Installs          0\n",
       "Type              0\n",
       "Price             0\n",
       "Content_Rating    0\n",
       "Genres            0\n",
       "Last Updated      0\n",
       "Current Ver       0\n",
       "Android Ver       0\n",
       "dtype: int64"
      ]
     },
     "execution_count": 33,
     "metadata": {},
     "output_type": "execute_result"
    }
   ],
   "source": [
    "df.isnull().sum()"
   ]
  },
  {
   "cell_type": "code",
   "execution_count": 34,
   "id": "74750924",
   "metadata": {},
   "outputs": [
    {
     "data": {
      "text/plain": [
       "(9360, 13)"
      ]
     },
     "execution_count": 34,
     "metadata": {},
     "output_type": "execute_result"
    }
   ],
   "source": [
    "df.shape"
   ]
  },
  {
   "cell_type": "markdown",
   "id": "03f736f1",
   "metadata": {},
   "source": [
    "# Sanity check"
   ]
  },
  {
   "cell_type": "markdown",
   "id": "d5b76ee1",
   "metadata": {},
   "source": [
    "**average rating should be in 1 and 5, as only these values are allowed on Play Store.  Drop  any rows  thatthat have values in this range.**"
   ]
  },
  {
   "cell_type": "code",
   "execution_count": 35,
   "id": "300e2c53",
   "metadata": {},
   "outputs": [
    {
     "data": {
      "text/plain": [
       "count   9360.00\n",
       "mean       4.19\n",
       "std        0.52\n",
       "min        1.00\n",
       "25%        4.00\n",
       "50%        4.30\n",
       "75%        4.50\n",
       "max        5.00\n",
       "Name: Rating, dtype: float64"
      ]
     },
     "execution_count": 35,
     "metadata": {},
     "output_type": "execute_result"
    }
   ],
   "source": [
    "# checking the rating\n",
    "df['Rating'].describe()"
   ]
  },
  {
   "cell_type": "markdown",
   "id": "9f4eefdb",
   "metadata": {},
   "source": [
    "**Min is 1 and max is 5.  None of the values have rating  outside  the side the range\n",
    "Reviews should not be more than installed apps as only those who installed  can  review the capp\n",
    "checking if reviews are more than installed**"
   ]
  },
  {
   "cell_type": "code",
   "execution_count": 55,
   "id": "b1329846",
   "metadata": {},
   "outputs": [
    {
     "data": {
      "text/plain": [
       "0    False\n",
       "1    False\n",
       "2    False\n",
       "3    False\n",
       "4    False\n",
       "dtype: bool"
      ]
     },
     "execution_count": 55,
     "metadata": {},
     "output_type": "execute_result"
    }
   ],
   "source": [
    "RI = df['Reviews']>df['Installs']\n",
    "RI.head()"
   ]
  },
  {
   "cell_type": "code",
   "execution_count": 37,
   "id": "a4d068fe",
   "metadata": {},
   "outputs": [
    {
     "data": {
      "text/html": [
       "<div>\n",
       "<style scoped>\n",
       "    .dataframe tbody tr th:only-of-type {\n",
       "        vertical-align: middle;\n",
       "    }\n",
       "\n",
       "    .dataframe tbody tr th {\n",
       "        vertical-align: top;\n",
       "    }\n",
       "\n",
       "    .dataframe thead th {\n",
       "        text-align: right;\n",
       "    }\n",
       "</style>\n",
       "<table border=\"1\" class=\"dataframe\">\n",
       "  <thead>\n",
       "    <tr style=\"text-align: right;\">\n",
       "      <th></th>\n",
       "      <th>App</th>\n",
       "      <th>Category</th>\n",
       "      <th>Rating</th>\n",
       "      <th>Reviews</th>\n",
       "      <th>Size</th>\n",
       "      <th>Installs</th>\n",
       "      <th>Type</th>\n",
       "      <th>Price</th>\n",
       "      <th>Content_Rating</th>\n",
       "      <th>Genres</th>\n",
       "      <th>Last Updated</th>\n",
       "      <th>Current Ver</th>\n",
       "      <th>Android Ver</th>\n",
       "    </tr>\n",
       "  </thead>\n",
       "  <tbody>\n",
       "    <tr>\n",
       "      <th>2454</th>\n",
       "      <td>KBA-EZ Health Guide</td>\n",
       "      <td>MEDICAL</td>\n",
       "      <td>5.00</td>\n",
       "      <td>4</td>\n",
       "      <td>25000.00</td>\n",
       "      <td>1</td>\n",
       "      <td>Free</td>\n",
       "      <td>0.00</td>\n",
       "      <td>Everyone</td>\n",
       "      <td>Medical</td>\n",
       "      <td>August 2, 2018</td>\n",
       "      <td>1.0.72</td>\n",
       "      <td>4.0.3 and up</td>\n",
       "    </tr>\n",
       "    <tr>\n",
       "      <th>4663</th>\n",
       "      <td>Alarmy (Sleep If U Can) - Pro</td>\n",
       "      <td>LIFESTYLE</td>\n",
       "      <td>4.80</td>\n",
       "      <td>10249</td>\n",
       "      <td>22970.46</td>\n",
       "      <td>10000</td>\n",
       "      <td>Paid</td>\n",
       "      <td>2.49</td>\n",
       "      <td>Everyone</td>\n",
       "      <td>Lifestyle</td>\n",
       "      <td>July 30, 2018</td>\n",
       "      <td>Varies with device</td>\n",
       "      <td>Varies with device</td>\n",
       "    </tr>\n",
       "    <tr>\n",
       "      <th>5917</th>\n",
       "      <td>Ra Ga Ba</td>\n",
       "      <td>GAME</td>\n",
       "      <td>5.00</td>\n",
       "      <td>2</td>\n",
       "      <td>20000.00</td>\n",
       "      <td>1</td>\n",
       "      <td>Paid</td>\n",
       "      <td>1.49</td>\n",
       "      <td>Everyone</td>\n",
       "      <td>Arcade</td>\n",
       "      <td>February 8, 2017</td>\n",
       "      <td>1.0.4</td>\n",
       "      <td>2.3 and up</td>\n",
       "    </tr>\n",
       "    <tr>\n",
       "      <th>6700</th>\n",
       "      <td>Brick Breaker BR</td>\n",
       "      <td>GAME</td>\n",
       "      <td>5.00</td>\n",
       "      <td>7</td>\n",
       "      <td>19000.00</td>\n",
       "      <td>5</td>\n",
       "      <td>Free</td>\n",
       "      <td>0.00</td>\n",
       "      <td>Everyone</td>\n",
       "      <td>Arcade</td>\n",
       "      <td>July 23, 2018</td>\n",
       "      <td>1</td>\n",
       "      <td>4.1 and up</td>\n",
       "    </tr>\n",
       "    <tr>\n",
       "      <th>7402</th>\n",
       "      <td>Trovami se ci riesci</td>\n",
       "      <td>GAME</td>\n",
       "      <td>5.00</td>\n",
       "      <td>11</td>\n",
       "      <td>6100.00</td>\n",
       "      <td>10</td>\n",
       "      <td>Free</td>\n",
       "      <td>0.00</td>\n",
       "      <td>Everyone</td>\n",
       "      <td>Arcade</td>\n",
       "      <td>March 11, 2017</td>\n",
       "      <td>0.1</td>\n",
       "      <td>2.3 and up</td>\n",
       "    </tr>\n",
       "    <tr>\n",
       "      <th>8591</th>\n",
       "      <td>DN Blog</td>\n",
       "      <td>SOCIAL</td>\n",
       "      <td>5.00</td>\n",
       "      <td>20</td>\n",
       "      <td>4200.00</td>\n",
       "      <td>10</td>\n",
       "      <td>Free</td>\n",
       "      <td>0.00</td>\n",
       "      <td>Teen</td>\n",
       "      <td>Social</td>\n",
       "      <td>July 23, 2018</td>\n",
       "      <td>1</td>\n",
       "      <td>4.0 and up</td>\n",
       "    </tr>\n",
       "    <tr>\n",
       "      <th>10697</th>\n",
       "      <td>Mu.F.O.</td>\n",
       "      <td>GAME</td>\n",
       "      <td>5.00</td>\n",
       "      <td>2</td>\n",
       "      <td>16000.00</td>\n",
       "      <td>1</td>\n",
       "      <td>Paid</td>\n",
       "      <td>0.99</td>\n",
       "      <td>Everyone</td>\n",
       "      <td>Arcade</td>\n",
       "      <td>March 3, 2017</td>\n",
       "      <td>1</td>\n",
       "      <td>2.3 and up</td>\n",
       "    </tr>\n",
       "  </tbody>\n",
       "</table>\n",
       "</div>"
      ],
      "text/plain": [
       "                                 App   Category  Rating  Reviews     Size  \\\n",
       "2454             KBA-EZ Health Guide    MEDICAL    5.00        4 25000.00   \n",
       "4663   Alarmy (Sleep If U Can) - Pro  LIFESTYLE    4.80    10249 22970.46   \n",
       "5917                        Ra Ga Ba       GAME    5.00        2 20000.00   \n",
       "6700                Brick Breaker BR       GAME    5.00        7 19000.00   \n",
       "7402            Trovami se ci riesci       GAME    5.00       11  6100.00   \n",
       "8591                         DN Blog     SOCIAL    5.00       20  4200.00   \n",
       "10697                        Mu.F.O.       GAME    5.00        2 16000.00   \n",
       "\n",
       "       Installs  Type  Price Content_Rating     Genres      Last Updated  \\\n",
       "2454          1  Free   0.00       Everyone    Medical    August 2, 2018   \n",
       "4663      10000  Paid   2.49       Everyone  Lifestyle     July 30, 2018   \n",
       "5917          1  Paid   1.49       Everyone     Arcade  February 8, 2017   \n",
       "6700          5  Free   0.00       Everyone     Arcade     July 23, 2018   \n",
       "7402         10  Free   0.00       Everyone     Arcade    March 11, 2017   \n",
       "8591         10  Free   0.00           Teen     Social     July 23, 2018   \n",
       "10697         1  Paid   0.99       Everyone     Arcade     March 3, 2017   \n",
       "\n",
       "              Current Ver         Android Ver  \n",
       "2454               1.0.72        4.0.3 and up  \n",
       "4663   Varies with device  Varies with device  \n",
       "5917                1.0.4          2.3 and up  \n",
       "6700                    1          4.1 and up  \n",
       "7402                  0.1          2.3 and up  \n",
       "8591                    1          4.0 and up  \n",
       "10697                   1          2.3 and up  "
      ]
     },
     "execution_count": 37,
     "metadata": {},
     "output_type": "execute_result"
    }
   ],
   "source": [
    "df[df['Reviews'] > df['Installs']]"
   ]
  },
  {
   "cell_type": "markdown",
   "id": "01a0157d",
   "metadata": {},
   "source": [
    "Drops such apps where Reviews are less than Installed."
   ]
  },
  {
   "cell_type": "code",
   "execution_count": 38,
   "id": "8ca7c52e",
   "metadata": {},
   "outputs": [],
   "source": [
    "df = df[df.Reviews <= df.Installs]"
   ]
  },
  {
   "cell_type": "code",
   "execution_count": 39,
   "id": "d0c9b92d",
   "metadata": {},
   "outputs": [
    {
     "data": {
      "text/plain": [
       "(9353, 13)"
      ]
     },
     "execution_count": 39,
     "metadata": {},
     "output_type": "execute_result"
    }
   ],
   "source": [
    "df.shape"
   ]
  },
  {
   "cell_type": "markdown",
   "id": "e055a00f",
   "metadata": {},
   "source": [
    "For free apps **(Type==\"Free\")**, the Price  should  no be **>0**.  Drop such rows."
   ]
  },
  {
   "cell_type": "code",
   "execution_count": 53,
   "id": "91f15dc8",
   "metadata": {},
   "outputs": [
    {
     "data": {
      "text/plain": [
       "0    False\n",
       "1    False\n",
       "2    False\n",
       "3    False\n",
       "4    False\n",
       "dtype: bool"
      ]
     },
     "execution_count": 53,
     "metadata": {},
     "output_type": "execute_result"
    }
   ],
   "source": [
    "TP = (df[\"Type\"]==\"Free\") & (df['Price']>0)\n",
    "TP.head()"
   ]
  },
  {
   "cell_type": "code",
   "execution_count": 41,
   "id": "fa610215",
   "metadata": {},
   "outputs": [
    {
     "data": {
      "text/plain": [
       "0"
      ]
     },
     "execution_count": 41,
     "metadata": {},
     "output_type": "execute_result"
    }
   ],
   "source": [
    "len(df[(df.Type=='Free') & (df.Price>0)])"
   ]
  },
  {
   "cell_type": "markdown",
   "id": "9b3d7338",
   "metadata": {},
   "source": [
    "# Univariate analysis"
   ]
  },
  {
   "cell_type": "markdown",
   "id": "b9214eb7",
   "metadata": {},
   "source": [
    "### Price"
   ]
  },
  {
   "cell_type": "code",
   "execution_count": 42,
   "id": "02a52471",
   "metadata": {},
   "outputs": [
    {
     "data": {
      "text/plain": [
       "count   9353.00\n",
       "mean       1.00\n",
       "std       16.00\n",
       "min        0.00\n",
       "25%        0.00\n",
       "50%        0.00\n",
       "75%        0.00\n",
       "max      400.00\n",
       "Name: Price, dtype: float64"
      ]
     },
     "execution_count": 42,
     "metadata": {},
     "output_type": "execute_result"
    }
   ],
   "source": [
    "df['Price'].describe().round(0)"
   ]
  },
  {
   "cell_type": "code",
   "execution_count": 43,
   "id": "4ab89595",
   "metadata": {},
   "outputs": [
    {
     "data": {
      "text/plain": [
       "<AxesSubplot:xlabel='Price'>"
      ]
     },
     "execution_count": 43,
     "metadata": {},
     "output_type": "execute_result"
    },
    {
     "data": {
      "image/png": "[encoded data removed]",
      "text/plain": [
       "<Figure size 640x480 with 1 Axes>"
      ]
     },
     "metadata": {},
     "output_type": "display_data"
    }
   ],
   "source": [
    "sns.boxplot(data=df, x='Price')"
   ]
  },
  {
   "cell_type": "markdown",
   "id": "02053169",
   "metadata": {},
   "source": [
    "### Reviews"
   ]
  },
  {
   "cell_type": "markdown",
   "id": "48a3f6e0",
   "metadata": {},
   "source": [
    "**Are there any apps with very  high number of eviews? Do the values seem right** "
   ]
  },
  {
   "cell_type": "code",
   "execution_count": 44,
   "id": "b04d1503",
   "metadata": {},
   "outputs": [
    {
     "data": {
      "text/plain": [
       "<AxesSubplot:xlabel='Reviews'>"
      ]
     },
     "execution_count": 44,
     "metadata": {},
     "output_type": "execute_result"
    },
    {
     "data": {
      "image/png": "[encoded data removed]",
      "text/plain": [
       "<Figure size 640x480 with 1 Axes>"
      ]
     },
     "metadata": {},
     "output_type": "display_data"
    }
   ],
   "source": [
    "sns.boxplot(data=df, x='Reviews')"
   ]
  },
  {
   "cell_type": "code",
   "execution_count": 45,
   "id": "fca3e378",
   "metadata": {},
   "outputs": [
    {
     "data": {
      "text/plain": [
       "count       9353.00\n",
       "mean      514760.58\n",
       "std      3146168.75\n",
       "min            1.00\n",
       "25%          187.00\n",
       "50%         5967.00\n",
       "75%        81747.00\n",
       "max     78158306.00\n",
       "Name: Reviews, dtype: float64"
      ]
     },
     "execution_count": 45,
     "metadata": {},
     "output_type": "execute_result"
    }
   ],
   "source": [
    "df['Reviews'].describe()"
   ]
  },
  {
   "cell_type": "markdown",
   "id": "611d6b81",
   "metadata": {},
   "source": [
    "### Rating"
   ]
  },
  {
   "cell_type": "markdown",
   "id": "a931d79d",
   "metadata": {},
   "source": [
    "**Distribution of the rating feature**"
   ]
  },
  {
   "cell_type": "code",
   "execution_count": 46,
   "id": "0e870996",
   "metadata": {},
   "outputs": [
    {
     "data": {
      "text/plain": [
       "<AxesSubplot:xlabel='Rating', ylabel='Count'>"
      ]
     },
     "execution_count": 46,
     "metadata": {},
     "output_type": "execute_result"
    },
    {
     "data": {
      "image/png": "[encoded data removed]",
      "text/plain": [
       "<Figure size 640x480 with 1 Axes>"
      ]
     },
     "metadata": {},
     "output_type": "display_data"
    }
   ],
   "source": [
    "sns.histplot(data=df, x='Rating')"
   ]
  },
  {
   "cell_type": "markdown",
   "id": "e25f27b9",
   "metadata": {},
   "source": [
    "# Size"
   ]
  },
  {
   "cell_type": "code",
   "execution_count": 47,
   "id": "aced6356",
   "metadata": {},
   "outputs": [
    {
     "data": {
      "text/plain": [
       "<AxesSubplot:xlabel='Size', ylabel='Count'>"
      ]
     },
     "execution_count": 47,
     "metadata": {},
     "output_type": "execute_result"
    },
    {
     "data": {
      "image/png": "[encoded data removed]",
      "text/plain": [
       "<Figure size 640x480 with 1 Axes>"
      ]
     },
     "metadata": {},
     "output_type": "display_data"
    }
   ],
   "source": [
    "sns.histplot(data=df, x='Size')"
   ]
  },
  {
   "cell_type": "markdown",
   "id": "91bddf38",
   "metadata": {},
   "source": [
    "#### This data took from SimpliLearn online data science institude.\n",
    "Image is downloaded form Google."
   ]
  }
 ],
 "metadata": {
  "kernelspec": {
   "display_name": "Python 3 (ipykernel)",
   "language": "python",
   "name": "python3"
  },
  "language_info": {
   "codemirror_mode": {
    "name": "ipython",
    "version": 3
   },
   "file_extension": ".py",
   "mimetype": "text/x-python",
   "name": "python",
   "nbconvert_exporter": "python",
   "pygments_lexer": "ipython3",
   "version": "3.7.13"
  }
 },
 "nbformat": 4,
 "nbformat_minor": 5
}
